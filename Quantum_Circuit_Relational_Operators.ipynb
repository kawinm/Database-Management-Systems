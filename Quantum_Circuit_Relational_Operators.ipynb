{
 "cells": [
  {
   "cell_type": "markdown",
   "id": "32f3f6ee-cf77-4ecb-8997-6f5c0f2623d1",
   "metadata": {},
   "source": [
    "# Import Libraries"
   ]
  },
  {
   "cell_type": "code",
   "execution_count": 1,
   "id": "1ffb00f7-ccca-4f40-9c09-70de1fa6b127",
   "metadata": {},
   "outputs": [
    {
     "name": "stderr",
     "output_type": "stream",
     "text": [
      "<frozen importlib._bootstrap>:219: RuntimeWarning: scipy._lib.messagestream.MessageStream size changed, may indicate binary incompatibility. Expected 56 from C header, got 64 from PyObject\n"
     ]
    }
   ],
   "source": [
    "import numpy as np\n",
    "# Import the standard libraries from Qiskit\n",
    "from qiskit import QuantumRegister, ClassicalRegister, QuantumCircuit, transpile, Aer, IBMQ\n",
    "from qiskit.tools.jupyter import *\n",
    "from qiskit.visualization import *\n",
    "from ibm_quantum_widgets import *\n",
    "# Import Simulators\n",
    "from qiskit.providers.aer import QasmSimulator\n",
    "from qiskit.providers.aer import AerSimulator\n",
    "# Loading your IBM Quantum account(s)\n",
    "provider = IBMQ.load_account()"
   ]
  },
  {
   "cell_type": "markdown",
   "id": "d0a169bb-80a9-433d-94a2-5849f6402746",
   "metadata": {},
   "source": [
    "# The Different Quantum Query Representation Algorithms"
   ]
  },
  {
   "cell_type": "markdown",
   "id": "79a98f30-ff52-413d-8916-267c85ec6790",
   "metadata": {},
   "source": [
    "### 1. Query Representation with Standard and Reset Gate\n",
    "\n",
    "As ancilla qubits can be reused due to the **Reset Gate**, the algorithm only requires **4** ancilla qubits.\n",
    "\n",
    "The equality operator requires only **2** ancilla qubits."
   ]
  },
  {
   "cell_type": "code",
   "execution_count": 14,
   "id": "7394aa73-9523-4cb8-930a-ea213956f144",
   "metadata": {
    "tags": []
   },
   "outputs": [],
   "source": [
    "def db_operator_4anc(qc, op, val, m):\n",
    "#     If there are no qubits in the data there is no need to run the algorithm\n",
    "    if m == 0:\n",
    "        return\n",
    "    \n",
    "#     Set (m+1)th qubit to '1'\n",
    "    qc.x(m)\n",
    "    \n",
    "#     Find the binary representation of val\n",
    "    val_bin = []\n",
    "    for i in range(m):\n",
    "        val_bin.append(val%2)\n",
    "        val //= 2\n",
    "\n",
    "#     If the val has more bits than m, then it is always greater than the value in qc\n",
    "    if val != 0:\n",
    "        if op in [\">\", \">=\", \"==\"]:\n",
    "            qc.x(m)\n",
    "        for i in range(m+1):\n",
    "            qc.measure(i,i)\n",
    "        return\n",
    "    \n",
    "#     If the current bit in val is 0, check if the corresponding bit in qc is 1. If so, the curr_0 qubit is reset to 0.\n",
    "#     If the current bit in val is 1, check if curr_0 is 1 and the corresponding bit in qc is 0. If so, the curr_1 qubit is set to 1.\n",
    "    curr_0, curr_1 = m, m+1\n",
    "    for i in range(m-1, -1, -1):\n",
    "        k = 3*m + 3 - curr_1 - curr_0\n",
    "        if val_bin[i] == 1:\n",
    "            qc.x(i)\n",
    "            qc.ccx(i, curr_0, m+3)\n",
    "            qc.x(i)\n",
    "            \n",
    "            qc.reset(k)\n",
    "            qc.cx(curr_1, k)\n",
    "            qc.x(curr_1)\n",
    "            qc.ccx(curr_1, m+3, k)\n",
    "            curr_1 = k\n",
    "            qc.barrier()\n",
    "        else:\n",
    "            qc.reset(k)\n",
    "            qc.cx(curr_0, k)\n",
    "            qc.ccx(i, curr_0, k)\n",
    "            curr_0 = k\n",
    "            qc.barrier()\n",
    "    \n",
    "#     If curr_0 = 1 and curr_1 = 1, then the value in qc is less than val\n",
    "#     If curr_0 = 1 and curr_1 = 0, then the value in qc is equal than val\n",
    "#     If curr_0 = 0 and curr_1 = 1, then the value in qc is less than val\n",
    "#     If curr_0 = 0 and curr_1 = 0, then the value in qc is greater than val\n",
    "#     Use the above logic to identify the correctness of (value in qc) op val and measure it\n",
    "    if op in [\"==\", \"!=\", \">\", \"<=\"]:\n",
    "        if op in [\">\", \"<=\"]:\n",
    "            qc.x(curr_0)\n",
    "        qc.x(curr_1)\n",
    "        qc.reset(m+3)\n",
    "        qc.ccx(curr_0, curr_1, m+3)\n",
    "        if op in [\"!=\", \"<=\"]:\n",
    "            qc.x(m+3)\n",
    "        qc.measure(m+3, m)\n",
    "    else:\n",
    "        if op == \">=\":\n",
    "            qc.x(curr_1)\n",
    "        qc.measure(curr_1, m)\n",
    "    \n",
    "    for i in range(m):\n",
    "        qc.measure(i,i)"
   ]
  },
  {
   "cell_type": "markdown",
   "id": "4b297f13-4f4a-45f4-8354-762b660f1243",
   "metadata": {},
   "source": [
    "### 2. Query Representation with Indicator Ancilla Qubits\n",
    "\n",
    "With the use of the **Additional Ancilla Qubits and Swap Gate**, the number of ancilla qubits can be brought down to **3**."
   ]
  },
  {
   "cell_type": "code",
   "execution_count": 7,
   "id": "5812e2d6-f412-4978-8d79-171bfc06caaf",
   "metadata": {},
   "outputs": [],
   "source": [
    "def eq_operator_2anc(qc, op, val, m):\n",
    "    \n",
    "    \"\"\"\n",
    "        Ancilla Qubits: 2\n",
    "        Operations done: <= 5m\n",
    "        \n",
    "        Barriers are optional and is not required for the correctness of the circuit.\n",
    "        It is used just to make the circuit diagram easier to understand\n",
    "    \"\"\"\n",
    "    \n",
    "#     If there are no qubits in the data there is no need to run the algorithm    \n",
    "    if m == 0:\n",
    "        return\n",
    "\n",
    "#     Find the binary representation of val\n",
    "    val_bin = []\n",
    "    for i in range(m):\n",
    "        val_bin.append(val % 2)\n",
    "        val //= 2\n",
    "    \n",
    "    print(val_bin)\n",
    "    \n",
    "    if val != 0:\n",
    "        qc.measure(m, 0)\n",
    "        return\n",
    "    \n",
    "    qc.x(m+1)\n",
    "    \n",
    "\n",
    "    for i in range(m-1,-1,-1):\n",
    "        if val_bin[i] == 0:\n",
    "            qc.reset(m)\n",
    "            qc.ccx(i,m+1,m)\n",
    "            qc.cx(m,m+1)\n",
    "            qc.barrier()\n",
    "        else:\n",
    "            qc.reset(m)\n",
    "            qc.x(i)\n",
    "            qc.ccx(i,m+1,m)\n",
    "            qc.cx(m,m+1)\n",
    "            qc.x(i)\n",
    "            qc.barrier()\n",
    "            \n",
    "    if op == \"!=\":\n",
    "        qc.x(m+1)\n",
    "        \n",
    "    # Measuring all the data qubits for VERIFICATION of output\n",
    "    # Optional, can be removed\n",
    "    for i in range(m):\n",
    "        qc.measure(i,i)\n",
    "        \n",
    "    # Measuring the output qubit\n",
    "    qc.measure(m+1, m)"
   ]
  },
  {
   "cell_type": "code",
   "execution_count": 19,
   "id": "6f73ebc4-4998-4140-8ff2-f637d640baee",
   "metadata": {},
   "outputs": [],
   "source": [
    "def db_operator_3anc(qc, op, val, m):\n",
    "    \n",
    "    \"\"\"\n",
    "        Ancilla Qubits: 3\n",
    "        Operations done: <= 6m\n",
    "        \n",
    "        Barriers are optional and is not required for the correctness of the circuit.\n",
    "        It is used just to make the circuit diagram easier to understand\n",
    "    \"\"\"\n",
    "    \n",
    "#     If there are no qubits in the data there is no need to run the algorithm    \n",
    "    if m == 0:\n",
    "        return\n",
    "\n",
    "#     Find the binary representation of val\n",
    "    val_bin = []\n",
    "    for i in range(m):\n",
    "        val_bin.append(val % 2)\n",
    "        val //= 2\n",
    "    \n",
    "    print(val_bin)\n",
    "    \n",
    "    if val != 0:\n",
    "        qc.measure(m, 0)\n",
    "        return\n",
    "    \n",
    "    qc.x(m+2)\n",
    "    \n",
    "    for i in range(m-1,-1,-1):\n",
    "        if val_bin[i] == 0:\n",
    "            if i == m-1:\n",
    "                qc.x(m)\n",
    "                qc.cx(i, m)\n",
    "                qc.cx(i, m+2) \n",
    "                qc.barrier()\n",
    "            elif i == 0 and (op == \"<\" or op == \">=\"):\n",
    "                qc.cx(m,m+2)\n",
    "                qc.barrier()\n",
    "            else:\n",
    "                qc.ccx(i,m,m+2)\n",
    "                qc.reset(m+1)\n",
    "                qc.x(i)\n",
    "                qc.ccx(i,m,m+1)\n",
    "                qc.swap(m,m+1)\n",
    "                qc.x(i)\n",
    "                qc.barrier()\n",
    "        else:\n",
    "            if i == m-1:\n",
    "                qc.cx(i,m)\n",
    "                qc.barrier()\n",
    "            elif i == 0 and (op == \"<\" or op == \">=\"):\n",
    "                qc.ccx(m,i,m+2)\n",
    "                qc.barrier()\n",
    "            else:\n",
    "                qc.reset(m+1)\n",
    "                qc.ccx(i,m,m+1)\n",
    "                qc.swap(m,m+1)\n",
    "                qc.barrier()\n",
    "            \n",
    "    if op == \">=\" or op == \">\":\n",
    "        qc.x(m+2)\n",
    "    \n",
    "    # Measuring all the data qubits for VERIFICATION of output\n",
    "    # Optional, can be removed\n",
    "    for i in range(m):\n",
    "        qc.measure(i,i)\n",
    "    \n",
    "    # Measuring the output qubit\n",
    "    qc.measure(m+2, m)"
   ]
  },
  {
   "cell_type": "markdown",
   "id": "fbf22c6c-0bba-4419-b6aa-407c8f2d2ed8",
   "metadata": {},
   "source": [
    "### 3. Query Representation with Control on Classical bit\n",
    "\n",
    "If **measurements** on the Ancilla qubits are allowed, then the number of ancilla qubits can be reduced to **2**.\n",
    "\n",
    "The number of ancilla qubits on just the equality operator can be reduced to just **1**."
   ]
  },
  {
   "cell_type": "code",
   "execution_count": 20,
   "id": "acac24ac-2185-4cf7-bd6e-e65be901e820",
   "metadata": {},
   "outputs": [],
   "source": [
    "def eq_operator_1anc(qc, op, val, m):\n",
    "    \n",
    "    \"\"\"\n",
    "        Ancilla Qubits: 1\n",
    "        Operations done: <= 4m\n",
    "        \n",
    "        Barriers are optional and is not required for the correctness of the circuit.\n",
    "        It is used just to make the circuit diagram easier to understand\n",
    "    \"\"\"\n",
    "    \n",
    "#     If there are no qubits in the data there is no need to run the algorithm    \n",
    "    if m == 0:\n",
    "        return\n",
    "    \n",
    "#    Find the binary representation of val    \n",
    "    val_bin = []\n",
    "    for i in range(m):\n",
    "        val_bin.append(val % 2)\n",
    "        val //= 2\n",
    "    \n",
    "    print(val_bin)\n",
    "    \n",
    "    if val != 0:\n",
    "        qc.measure(m, 0)\n",
    "        return\n",
    "    \n",
    "    qc.x(m)\n",
    "    \n",
    "    for i in range(m-1,-1,-1):\n",
    "        if val_bin[i] == 0:\n",
    "            qc.measure(m, 0)\n",
    "            qc.cx(i,m).c_if(0, 1)\n",
    "            qc.barrier()\n",
    "        else:\n",
    "            qc.x(i)\n",
    "            qc.measure(m, 0)\n",
    "            qc.cx(i,m).c_if(0, 1)\n",
    "            qc.x(i)\n",
    "            qc.barrier()\n",
    "    if op == \"!=\":\n",
    "        qc.x(m)\n",
    "        \n",
    "    # Measuring Data qubits for Verfiication\n",
    "    # Remove in actual run\n",
    "    for i in range(m):\n",
    "        qc.measure(i,i)\n",
    "    \n",
    "    # Measuring Output qubit\n",
    "    qc.measure(m, m)"
   ]
  },
  {
   "cell_type": "code",
   "execution_count": 21,
   "id": "4d4b4737-c3a5-440a-bc9d-1d630fb323d2",
   "metadata": {},
   "outputs": [],
   "source": [
    "def db_operator_2anc(qc, op, val, m):\n",
    "    \n",
    "    \"\"\"\n",
    "        Ancilla Qubits: 2\n",
    "        Operations done: <= 4m\n",
    "        \n",
    "        Barriers are optional and is not required for the correctness of the circuit.\n",
    "        It is used just to make the circuit diagram easier to understand\n",
    "    \"\"\"\n",
    "    \n",
    "#     If there are no qubits in the data there is no need to run the algorithm    \n",
    "    if m == 0:\n",
    "        return\n",
    "\n",
    "#     Find the binary representation of val\n",
    "    val_bin = []\n",
    "    for i in range(m):\n",
    "        val_bin.append(val % 2)\n",
    "        val //= 2\n",
    "    \n",
    "    print(val_bin)\n",
    "    \n",
    "    if val != 0:\n",
    "        qc.measure(m, 0)\n",
    "        return\n",
    "    \n",
    "    qc.x(m+1)\n",
    "    \n",
    "    for i in range(m-1,-1,-1):\n",
    "        if val_bin[i] == 0:\n",
    "            if i == m-1:\n",
    "                qc.x(m)\n",
    "                qc.cx(i, m)\n",
    "                qc.cx(i, m+1) \n",
    "                qc.barrier()\n",
    "            elif i == 0 and (op == \"<\" or op == \">=\"):\n",
    "                qc.cx(m,m+1)\n",
    "                qc.barrier()\n",
    "            else:\n",
    "                qc.ccx(i,m,m+1)\n",
    "                qc.measure(m, 0)\n",
    "                qc.cx(i,m).c_if(0, 1)\n",
    "                qc.barrier()\n",
    "        else:\n",
    "            if i == m-1:\n",
    "                qc.cx(i,m)\n",
    "                qc.barrier()\n",
    "            elif i == 0 and (op == \"<\" or op == \">=\"):\n",
    "                qc.ccx(m,i,m+1)\n",
    "                qc.barrier()\n",
    "            else:\n",
    "                qc.x(i)\n",
    "                qc.measure(m, 0)\n",
    "                qc.cx(i,m).c_if(0, 1)\n",
    "                qc.x(i)\n",
    "                qc.barrier()\n",
    "    if op == \">=\" or op == \">\":\n",
    "        qc.x(m+1)\n",
    "    \n",
    "    # Measuring Data qubits for Verfiication\n",
    "    # Remove in actual run\n",
    "    for i in range(m):\n",
    "        qc.measure(i,i)\n",
    "        \n",
    "    # Measuring Output qubit\n",
    "    qc.measure(m+1, m)"
   ]
  },
  {
   "cell_type": "code",
   "execution_count": 22,
   "id": "d4257e92-c12f-493f-bfee-3c2f01377eee",
   "metadata": {},
   "outputs": [],
   "source": [
    "#  The Operator with the smallest number of ancilla Qubits\n",
    "def db_operator(qc, op, val, m):\n",
    "    if op == '==' or op == '!=':\n",
    "        eq_operator_1anc(qc, op, val, m)   # Using our final algorithm\n",
    "    else:\n",
    "        db_operator_2anc(qc, op, val, m)   # Using our final algorithm"
   ]
  },
  {
   "cell_type": "markdown",
   "id": "6ee8463a-baa3-49ee-9833-60acc49b7537",
   "metadata": {},
   "source": [
    "# Experiments\n",
    "\n",
    "The following experiments are only for the case with measurements on the ancilla qubits as it is the operator that uses the least number of ancilla qubits.\n",
    "\n",
    "Create a Quantum Circuit with the necessary ancilla and initialize the values"
   ]
  },
  {
   "cell_type": "code",
   "execution_count": 23,
   "id": "f6df49e3-bf3d-4132-bb70-cf975c9162e9",
   "metadata": {},
   "outputs": [
    {
     "data": {
      "image/png": "[encoded data removed]",
      "text/plain": [
       "<Figure size 261.8x626.08 with 1 Axes>"
      ]
     },
     "execution_count": 23,
     "metadata": {},
     "output_type": "execute_result"
    }
   ],
   "source": [
    "# Input Parameters\n",
    "op = '<='\n",
    "val = 14\n",
    "m = 5\n",
    "\n",
    "# Create the Quantum Circuit\n",
    "\n",
    "q = QuantumRegister(m, 'q')\n",
    "\n",
    "# Using m+1 classical bits for verification of data qubits\n",
    "# Just 1 classical bit is required for actual working\n",
    "cr = ClassicalRegister(m+1, 'c')\n",
    "\n",
    "\n",
    "if op == '==' or op == '!=':\n",
    "    ac = QuantumRegister(1, 'ancilla')\n",
    "else:\n",
    "    ac = QuantumRegister(2, 'ancilla')\n",
    "    \n",
    "qc = QuantumCircuit(q, ac, cr)\n",
    "\n",
    "\n",
    "#     Initialize the value encoded in the Quantum Circuit\n",
    "for i in range(m):\n",
    "    qc.h(i)\n",
    "qc.barrier()\n",
    "\n",
    "#     Visual Representation of the Circuit\n",
    "qc.draw()"
   ]
  },
  {
   "cell_type": "markdown",
   "id": "c9d7c579-7d4e-4f51-ae4f-ae0b1df335e0",
   "metadata": {},
   "source": [
    "Run the *db_operator* and draw the visual representation of the Circuit"
   ]
  },
  {
   "cell_type": "code",
   "execution_count": 24,
   "id": "01ffb5ac-0281-4efb-98c5-73023fba9e99",
   "metadata": {},
   "outputs": [
    {
     "data": {
      "image/png": "[encoded data removed]",
      "text/plain": [
       "<Figure size 1646.4x1288.28 with 1 Axes>"
      ]
     },
     "execution_count": 24,
     "metadata": {},
     "output_type": "execute_result"
    }
   ],
   "source": [
    "db_operator(qc, op, val, m)\n",
    "qc.draw()"
   ]
  },
  {
   "cell_type": "markdown",
   "id": "95c75cf4-801c-4cf6-a4f5-bb068abb656d",
   "metadata": {},
   "source": [
    "Create a Simulator to run the Circuit"
   ]
  },
  {
   "cell_type": "code",
   "execution_count": 25,
   "id": "be0b6b3e-550e-4e01-a3dd-7f789896e8bb",
   "metadata": {},
   "outputs": [],
   "source": [
    "sim = AerSimulator()"
   ]
  },
  {
   "cell_type": "markdown",
   "id": "acf48c79-5323-4b26-80e1-4729c401fe99",
   "metadata": {},
   "source": [
    "Run the simulator and the get the Results"
   ]
  },
  {
   "cell_type": "code",
   "execution_count": 26,
   "id": "171ab9df-7407-4253-a8cb-c521a4e865ba",
   "metadata": {},
   "outputs": [],
   "source": [
    "job = sim.run(qc)      # run the experiment\n",
    "result = job.result()  # get the results"
   ]
  },
  {
   "cell_type": "markdown",
   "id": "b6ee0ccf-5a7d-40a4-b540-d602def50380",
   "metadata": {},
   "source": [
    "To test the results, check if the given output matches the values measured from qc"
   ]
  },
  {
   "cell_type": "code",
   "execution_count": 27,
   "id": "e482ab97-727e-4dc2-8eab-e3e11f8ce4d2",
   "metadata": {},
   "outputs": [
    {
     "name": "stdout",
     "output_type": "stream",
     "text": [
      "{'101010': 39, '100001': 36, '101011': 31, '100100': 35, '011001': 24, '101101': 35, '011100': 21, '011110': 38, '011101': 31, '100000': 21, '010100': 36, '100011': 36, '011011': 37, '100010': 25, '011111': 27, '010110': 39, '010010': 30, '100110': 26, '011010': 40, '001111': 34, '101110': 25, '010011': 22, '010000': 23, '010101': 38, '010001': 27, '101100': 45, '011000': 27, '010111': 29, '101001': 34, '101000': 37, '100101': 44, '100111': 32}\n"
     ]
    },
    {
     "data": {
      "image/png": "[encoded data removed]",
      "text/plain": [
       "<Figure size 504x360 with 1 Axes>"
      ]
     },
     "execution_count": 27,
     "metadata": {},
     "output_type": "execute_result"
    }
   ],
   "source": [
    "print(result.get_counts())\n",
    "plot_histogram(result.get_counts(), color='midnightblue', title=\"Output Histogram\")"
   ]
  },
  {
   "cell_type": "code",
   "execution_count": 28,
   "id": "dc1099cf-16b5-4d34-968e-8d585a021831",
   "metadata": {},
   "outputs": [
    {
     "name": "stdout",
     "output_type": "stream",
     "text": [
      "Numbers with output 0: [15, 16, 17, 18, 19, 20, 21, 22, 23, 24, 25, 26, 27, 28, 29, 30, 31]\n",
      "Numbers with output 1: [0, 1, 2, 3, 4, 5, 6, 7, 8, 9, 10, 11, 12, 13, 14]\n"
     ]
    }
   ],
   "source": [
    "a,b =[],[]\n",
    "for i in result.get_counts():\n",
    "    if i[0] == '0':\n",
    "        a.append(int(i[1:],2))\n",
    "    else:\n",
    "        b.append(int(i[1:],2))\n",
    "\n",
    "a.sort()\n",
    "print(\"Numbers with output 0:\", a)\n",
    "\n",
    "b.sort()\n",
    "print(\"Numbers with output 1:\", b)"
   ]
  },
  {
   "cell_type": "code",
   "execution_count": null,
   "id": "76cbb89b-f64d-47de-af76-f5a3077bb389",
   "metadata": {},
   "outputs": [],
   "source": []
  },
  {
   "cell_type": "code",
   "execution_count": null,
   "id": "8ff15ec2-a4bb-47b0-9908-f8a97b3a1106",
   "metadata": {},
   "outputs": [],
   "source": []
  },
  {
   "cell_type": "code",
   "execution_count": null,
   "id": "587a820d-90cb-4072-bf15-4e9d28b869a9",
   "metadata": {},
   "outputs": [],
   "source": []
  }
 ],
 "metadata": {
  "kernelspec": {
   "display_name": "Qiskit v0.35.0 (ipykernel)",
   "language": "python",
   "name": "python3"
  },
  "language_info": {
   "codemirror_mode": {
    "name": "ipython",
    "version": 3
   },
   "file_extension": ".py",
   "mimetype": "text/x-python",
   "name": "python",
   "nbconvert_exporter": "python",
   "pygments_lexer": "ipython3",
   "version": "3.8.13"
  },
  "widgets": {
   "application/vnd.jupyter.widget-state+json": {
    "state": {
     "004ce9b92d2f46cea78830db53b90636": {
      "model_module": "@jupyter-widgets/base",
      "model_module_version": "1.2.0",
      "model_name": "LayoutModel",
      "state": {
       "grid_template_areas": "\n                                       \". . . . right \"\n                                        ",
       "grid_template_columns": "20% 20% 20% 20% 20%",
       "width": "100%"
      }
     },
     "11cb5681a8e54c0dbbee2da86e9f355c": {
      "model_module": "@jupyter-widgets/controls",
      "model_module_version": "1.5.0",
      "model_name": "DescriptionStyleModel",
      "state": {
       "description_width": ""
      }
     },
     "12f14d37034f4b51b9e9ec22df5d52f5": {
      "model_module": "@jupyter-widgets/base",
      "model_module_version": "1.2.0",
      "model_name": "LayoutModel",
      "state": {
       "width": "70px"
      }
     },
     "16d5e19ffd334a35903eacb7faab1d5c": {
      "model_module": "@jupyter-widgets/controls",
      "model_module_version": "1.5.0",
      "model_name": "ButtonStyleModel",
      "state": {}
     },
     "1c3afcb6b9894c15acfc76d3bd6d77cc": {
      "model_module": "@jupyter-widgets/base",
      "model_module_version": "1.2.0",
      "model_name": "LayoutModel",
      "state": {
       "width": "95px"
      }
     },
     "1ed7485ae3a64749b90b79fdfe4bdf4b": {
      "model_module": "@jupyter-widgets/base",
      "model_module_version": "1.2.0",
      "model_name": "LayoutModel",
      "state": {
       "grid_area": "right",
       "padding": "0px 0px 0px 0px",
       "width": "70px"
      }
     },
     "1f8daa7e17584c9e8f648b93f095ac7c": {
      "model_module": "@jupyter-widgets/controls",
      "model_module_version": "1.5.0",
      "model_name": "HTMLModel",
      "state": {
       "layout": "IPY_MODEL_ecc3fc05740d483fa004a238636e42c2",
       "style": "IPY_MODEL_74b981e6ad6a4a8bac554ab10cd0b100",
       "value": "<h5>Backend</h5>"
      }
     },
     "33741d60f9664c688219414c1401c1e5": {
      "model_module": "@jupyter-widgets/controls",
      "model_module_version": "1.5.0",
      "model_name": "ButtonModel",
      "state": {
       "button_style": "primary",
       "description": "Clear",
       "layout": "IPY_MODEL_1ed7485ae3a64749b90b79fdfe4bdf4b",
       "style": "IPY_MODEL_16d5e19ffd334a35903eacb7faab1d5c"
      }
     },
     "352a994da41f4e3faae95c25092d8df3": {
      "model_module": "@jupyter-widgets/controls",
      "model_module_version": "1.5.0",
      "model_name": "HTMLModel",
      "state": {
       "layout": "IPY_MODEL_1c3afcb6b9894c15acfc76d3bd6d77cc",
       "style": "IPY_MODEL_78eac394670e474f9d93b890d3dbcd26",
       "value": "<h5>Status</h5>"
      }
     },
     "3e646f171ed84cf8ad4cfe07d3e89bc9": {
      "model_module": "@jupyter-widgets/controls",
      "model_module_version": "1.5.0",
      "model_name": "DescriptionStyleModel",
      "state": {
       "description_width": ""
      }
     },
     "670066af329b482da57e20b6f0c95d0f": {
      "model_module": "@jupyter-widgets/controls",
      "model_module_version": "1.5.0",
      "model_name": "HBoxModel",
      "state": {
       "children": [
        "IPY_MODEL_da97221b9659449885dadc2cf24c1390",
        "IPY_MODEL_1f8daa7e17584c9e8f648b93f095ac7c",
        "IPY_MODEL_352a994da41f4e3faae95c25092d8df3",
        "IPY_MODEL_74ba1dc29efe4213b09ca1372185d649",
        "IPY_MODEL_8c08b07ff888409691e4eb3f0c129991"
       ],
       "layout": "IPY_MODEL_eac6a96aa8b24f5abb6f36f798a65c78"
      }
     },
     "682a4be6c69742a193c405431e2e41b0": {
      "model_module": "@jupyter-widgets/base",
      "model_module_version": "1.2.0",
      "model_name": "LayoutModel",
      "state": {}
     },
     "74b981e6ad6a4a8bac554ab10cd0b100": {
      "model_module": "@jupyter-widgets/controls",
      "model_module_version": "1.5.0",
      "model_name": "DescriptionStyleModel",
      "state": {
       "description_width": ""
      }
     },
     "74ba1dc29efe4213b09ca1372185d649": {
      "model_module": "@jupyter-widgets/controls",
      "model_module_version": "1.5.0",
      "model_name": "HTMLModel",
      "state": {
       "layout": "IPY_MODEL_12f14d37034f4b51b9e9ec22df5d52f5",
       "style": "IPY_MODEL_11cb5681a8e54c0dbbee2da86e9f355c",
       "value": "<h5>Queue</h5>"
      }
     },
     "78eac394670e474f9d93b890d3dbcd26": {
      "model_module": "@jupyter-widgets/controls",
      "model_module_version": "1.5.0",
      "model_name": "DescriptionStyleModel",
      "state": {
       "description_width": ""
      }
     },
     "89d5e73a76104717b6c727a9a3f493f5": {
      "model_module": "@jupyter-widgets/controls",
      "model_module_version": "1.5.0",
      "model_name": "GridBoxModel",
      "state": {
       "children": [
        "IPY_MODEL_33741d60f9664c688219414c1401c1e5"
       ],
       "layout": "IPY_MODEL_004ce9b92d2f46cea78830db53b90636"
      }
     },
     "8c08b07ff888409691e4eb3f0c129991": {
      "model_module": "@jupyter-widgets/controls",
      "model_module_version": "1.5.0",
      "model_name": "HTMLModel",
      "state": {
       "layout": "IPY_MODEL_682a4be6c69742a193c405431e2e41b0",
       "style": "IPY_MODEL_eead4c1cff224f25b8e12b6ef7bc94f0",
       "value": "<h5>Message</h5>"
      }
     },
     "8fb3a07e5e5f43fd998146bcbbc2560f": {
      "model_module": "@jupyter-widgets/controls",
      "model_module_version": "1.5.0",
      "model_name": "HTMLModel",
      "state": {
       "layout": "IPY_MODEL_cd3951c10acb4f28b04ffbff2b7f67a6",
       "style": "IPY_MODEL_3e646f171ed84cf8ad4cfe07d3e89bc9",
       "value": "<p style='font-family: IBM Plex Sans, Arial, Helvetica, sans-serif; font-size: 20px; font-weight: medium;'>Circuit Properties</p>"
      }
     },
     "c81656b4a35b42588f80df839854799f": {
      "model_module": "@jupyter-widgets/controls",
      "model_module_version": "1.5.0",
      "model_name": "DescriptionStyleModel",
      "state": {
       "description_width": ""
      }
     },
     "c9190f07470a4314b2ad096149e0f1be": {
      "model_module": "@jupyter-widgets/base",
      "model_module_version": "1.2.0",
      "model_name": "LayoutModel",
      "state": {
       "width": "190px"
      }
     },
     "cd3951c10acb4f28b04ffbff2b7f67a6": {
      "model_module": "@jupyter-widgets/base",
      "model_module_version": "1.2.0",
      "model_name": "LayoutModel",
      "state": {
       "margin": "0px 0px 10px 0px"
      }
     },
     "da97221b9659449885dadc2cf24c1390": {
      "model_module": "@jupyter-widgets/controls",
      "model_module_version": "1.5.0",
      "model_name": "HTMLModel",
      "state": {
       "layout": "IPY_MODEL_c9190f07470a4314b2ad096149e0f1be",
       "style": "IPY_MODEL_c81656b4a35b42588f80df839854799f",
       "value": "<h5>Job ID</h5>"
      }
     },
     "eac6a96aa8b24f5abb6f36f798a65c78": {
      "model_module": "@jupyter-widgets/base",
      "model_module_version": "1.2.0",
      "model_name": "LayoutModel",
      "state": {
       "margin": "0px 0px 0px 37px",
       "width": "600px"
      }
     },
     "ecc3fc05740d483fa004a238636e42c2": {
      "model_module": "@jupyter-widgets/base",
      "model_module_version": "1.2.0",
      "model_name": "LayoutModel",
      "state": {
       "width": "145px"
      }
     },
     "eead4c1cff224f25b8e12b6ef7bc94f0": {
      "model_module": "@jupyter-widgets/controls",
      "model_module_version": "1.5.0",
      "model_name": "DescriptionStyleModel",
      "state": {
       "description_width": ""
      }
     }
    },
    "version_major": 2,
    "version_minor": 0
   }
  }
 },
 "nbformat": 4,
 "nbformat_minor": 5
}
